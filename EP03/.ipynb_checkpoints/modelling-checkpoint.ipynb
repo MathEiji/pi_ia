{
 "cells": [
  {
   "cell_type": "code",
   "execution_count": 2,
   "id": "3f62d3db",
   "metadata": {},
   "outputs": [],
   "source": [
    "import gymnasium\n",
    "\n",
    "# https://pypi.org/project/colorama/\n",
    "from colorama import just_fix_windows_console, init, Back, Fore\n",
    "\n",
    "init(autoreset=True)\n",
    "\n",
    "# use Colorama to make Termcolor work on Windows too\n",
    "just_fix_windows_console()"
   ]
  },
  {
   "cell_type": "code",
   "execution_count": 6,
   "id": "4138281a",
   "metadata": {},
   "outputs": [],
   "source": [
    "env = gymnasium.make(\"ALE/SpaceInvaders-v5\", render_mode=\"human\", obs_type=\"ram\")\n",
    "state = env.reset(seed=0)\n",
    "\n",
    "episodes = 20\n",
    "for episode in range(1, episodes+1):\n",
    "#     state = env.reset()\n",
    "    done = false\n",
    "    score = 0\n",
    "    while not done:\n",
    "        action = env.action_space.sample()\n",
    "        obs, reward, done, info = env.step([action])\n",
    "        env.render\n",
    "        score+=reward\n",
    "    print('Episode\" {} Score: {}'.format(episode, score))"
   ]
  },
  {
   "cell_type": "code",
   "execution_count": 3,
   "id": "ba85b18c",
   "metadata": {},
   "outputs": [
    {
     "ename": "NameError",
     "evalue": "name 'env' is not defined",
     "output_type": "error",
     "traceback": [
      "\u001b[1;31m---------------------------------------------------------------------------\u001b[0m",
      "\u001b[1;31mNameError\u001b[0m                                 Traceback (most recent call last)",
      "Cell \u001b[1;32mIn[3], line 1\u001b[0m\n\u001b[1;32m----> 1\u001b[0m state \u001b[38;5;241m=\u001b[39m \u001b[43menv\u001b[49m\u001b[38;5;241m.\u001b[39mreset(seed\u001b[38;5;241m=\u001b[39m\u001b[38;5;241m0\u001b[39m)\n",
      "\u001b[1;31mNameError\u001b[0m: name 'env' is not defined"
     ]
    }
   ],
   "source": [
    "env.close()"
   ]
  }
 ],
 "metadata": {
  "kernelspec": {
   "display_name": "Python 3 (ipykernel)",
   "language": "python",
   "name": "python3"
  },
  "language_info": {
   "codemirror_mode": {
    "name": "ipython",
    "version": 3
   },
   "file_extension": ".py",
   "mimetype": "text/x-python",
   "name": "python",
   "nbconvert_exporter": "python",
   "pygments_lexer": "ipython3",
   "version": "3.10.10"
  }
 },
 "nbformat": 4,
 "nbformat_minor": 5
}
