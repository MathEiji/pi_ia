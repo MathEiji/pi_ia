{
 "cells": [
  {
   "cell_type": "code",
   "execution_count": 3,
   "id": "1046fb88",
   "metadata": {},
   "outputs": [],
   "source": [
    "import gymnasium\n",
    "\n",
    "# https://pypi.org/project/colorama/\n",
    "from colorama import just_fix_windows_console, init, Back, Fore\n",
    "\n",
    "init(autoreset=True)\n",
    "\n",
    "# use Colorama to make Termcolor work on Windows too\n",
    "just_fix_windows_console()"
   ]
  },
  {
   "cell_type": "code",
   "execution_count": 5,
   "id": "0cbc30a6",
   "metadata": {},
   "outputs": [
    {
     "name": "stdout",
     "output_type": "stream",
     "text": [
      "Episode\" 1 Score: 110.0\n",
      "Episode\" 2 Score: 0.0\n",
      "Episode\" 3 Score: 0.0\n",
      "Episode\" 4 Score: 0.0\n",
      "Episode\" 5 Score: 0.0\n",
      "Episode\" 6 Score: 0.0\n",
      "Episode\" 7 Score: 0.0\n",
      "Episode\" 8 Score: 0.0\n",
      "Episode\" 9 Score: 0.0\n",
      "Episode\" 10 Score: 0.0\n",
      "Episode\" 11 Score: 0.0\n",
      "Episode\" 12 Score: 0.0\n",
      "Episode\" 13 Score: 0.0\n",
      "Episode\" 14 Score: 0.0\n",
      "Episode\" 15 Score: 0.0\n",
      "Episode\" 16 Score: 0.0\n",
      "Episode\" 17 Score: 0.0\n",
      "Episode\" 18 Score: 0.0\n",
      "Episode\" 19 Score: 0.0\n",
      "Episode\" 20 Score: 0.0\n"
     ]
    }
   ],
   "source": [
    "env = gymnasium.make(\"ALE/SpaceInvaders-v5\", render_mode=\"human\", obs_type=\"ram\")\n",
    "state = env.reset(seed=0)\n",
    "\n",
    "episodes = 20\n",
    "for episode in range(1, episodes+1):\n",
    "#     state = env.reset()\n",
    "    done = False\n",
    "    score = 0\n",
    "    while not done:\n",
    "        action = env.action_space.sample()\n",
    "        ambient, reward, done, paralyzed, info = env.step(action)\n",
    "        score+=reward\n",
    "    print('Episode\" {} Score: {}'.format(episode, score))"
   ]
  },
  {
   "cell_type": "code",
   "execution_count": 7,
   "id": "bca60c2d",
   "metadata": {},
   "outputs": [],
   "source": [
    "env.close()"
   ]
  }
 ],
 "metadata": {
  "kernelspec": {
   "display_name": "Python 3 (ipykernel)",
   "language": "python",
   "name": "python3"
  },
  "language_info": {
   "codemirror_mode": {
    "name": "ipython",
    "version": 3
   },
   "file_extension": ".py",
   "mimetype": "text/x-python",
   "name": "python",
   "nbconvert_exporter": "python",
   "pygments_lexer": "ipython3",
   "version": "3.10.10"
  }
 },
 "nbformat": 4,
 "nbformat_minor": 5
}
